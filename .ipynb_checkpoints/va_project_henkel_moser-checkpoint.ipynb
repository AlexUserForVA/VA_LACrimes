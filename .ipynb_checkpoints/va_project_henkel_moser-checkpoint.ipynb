{
 "cells": [
  {
   "cell_type": "code",
   "execution_count": null,
   "metadata": {
    "collapsed": true
   },
   "outputs": [],
   "source": [
    "# import packages\n",
    "import numpy as np\n",
    "import pandas as pd\n",
    "import matplotlib.pyplot as plt\n",
    "import seaborn as sns"
   ]
  },
  {
   "cell_type": "code",
   "execution_count": null,
   "metadata": {
    "collapsed": true
   },
   "outputs": [],
   "source": [
    "# load the dataset\n",
    "crimes = pd.read_csv('crime_data.csv')"
   ]
  },
  {
   "cell_type": "code",
   "execution_count": null,
   "metadata": {
    "collapsed": true
   },
   "outputs": [],
   "source": [
    "# Data Cleaning and Reduction\n",
    "crimes.drop(['Reporting District','Crime Code 1', 'Crime Code 2', 'Crime Code 3', 'Crime Code 4', 'Address', 'Cross Street'], axis=1, inplace=True)\n",
    "\n",
    "\n",
    "crimes.drop(crimes[(crimes['Status Code']=='CC') | (crimes['Status Code']=='13')\n",
    "                  | (crimes['Status Code']=='19') | (crimes['Status Code']=='TH')].index, inplace=True)\n",
    "crimes.drop(crimes[(crimes['Victim Sex']=='H') | (crimes['Victim Sex']=='-')].index, inplace=True)\n",
    "crimes.drop(crimes[(crimes['Victim Descent']=='-')].index, inplace=True)\n",
    "crimes.drop(crimes[np.isnan(crimes['Premise Code'])].index, inplace=True)\n",
    "\n",
    "# If the Weapon Code is not given, this might either indicate that it is unknown or that there was no weapon\n",
    "crimes['Weapon Used Code'].fillna(222.0, inplace=True)\n",
    "crimes['Weapon Description'].fillna('Unknown/No Weapon', inplace=True)\n",
    "\n",
    "# Drop rows without crime code description 451 rows\n",
    "crimes.drop(crimes[pd.isnull(crimes['Crime Code Description'])].index, inplace=True)\n",
    "\n",
    "# Drop rows without premise description ~3300\n",
    "crimes.drop(crimes[pd.isnull(crimes['Premise Description'])].index, inplace=True)"
   ]
  }
 ],
 "metadata": {
  "kernelspec": {
   "display_name": "Python 3",
   "language": "python",
   "name": "python3"
  },
  "language_info": {
   "codemirror_mode": {
    "name": "ipython",
    "version": 3
   },
   "file_extension": ".py",
   "mimetype": "text/x-python",
   "name": "python",
   "nbconvert_exporter": "python",
   "pygments_lexer": "ipython3",
   "version": "3.5.4"
  }
 },
 "nbformat": 4,
 "nbformat_minor": 2
}
