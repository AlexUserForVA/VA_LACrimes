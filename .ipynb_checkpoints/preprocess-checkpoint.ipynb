{
 "cells": [
  {
   "cell_type": "code",
   "execution_count": 1,
   "metadata": {},
   "outputs": [
    {
     "name": "stderr",
     "output_type": "stream",
     "text": [
      "/home/alex/anaconda2/envs/py36/lib/python3.6/site-packages/IPython/html.py:14: ShimWarning:\n",
      "\n",
      "The `IPython.html` package has been deprecated since IPython 4.0. You should import from `notebook` instead. `IPython.html.widgets` has moved to `ipywidgets`.\n",
      "\n"
     ]
    }
   ],
   "source": [
    "from plotly.offline import download_plotlyjs, init_notebook_mode, plot, iplot\n",
    "import plotly.plotly as py\n",
    "from plotly.graph_objs import *\n",
    "import ipywidgets as widgets\n",
    "from IPython.display import display\n",
    "from IPython.html.widgets import interactive\n",
    "import pandas as pd\n",
    "import numpy as np\n",
    "import math\n",
    "import pickle"
   ]
  },
  {
   "cell_type": "code",
   "execution_count": 2,
   "metadata": {
    "collapsed": true
   },
   "outputs": [],
   "source": [
    "#plotly.tools.set_credentials_file(username='AlexForVA', api_key='zD1O0M48SU15XWMxDNSa')"
   ]
  },
  {
   "cell_type": "code",
   "execution_count": 3,
   "metadata": {
    "collapsed": true
   },
   "outputs": [],
   "source": [
    "#from IPython.display import display, HTML\n",
    "\n",
    "#display(HTML(data=\"\"\"\n",
    "#<style>\n",
    "#    div#notebook-container    { width: 95%; }\n",
    "#    div#menubar-container     { width: 65%; }\n",
    "#    div#maintoolbar-container { width: 99%; }\n",
    "#</style>\n",
    "#\"\"\"))"
   ]
  },
  {
   "cell_type": "code",
   "execution_count": 4,
   "metadata": {
    "collapsed": true
   },
   "outputs": [],
   "source": [
    "#crimes.to_pickle('cleaned_crime_dump')"
   ]
  },
  {
   "cell_type": "code",
   "execution_count": 5,
   "metadata": {
    "collapsed": true
   },
   "outputs": [],
   "source": [
    "crimes = pd.read_pickle('cleaned_crime_dump')"
   ]
  },
  {
   "cell_type": "code",
   "execution_count": 6,
   "metadata": {
    "collapsed": true
   },
   "outputs": [],
   "source": [
    "AGGREGATION_BORDER = 20000\n",
    "LEVEL_OF_AGGREGATION = 2 # number of number after comma\n",
    "def aggregateCrimes(temp):\n",
    "    # round longitude and latitude to aggregate \n",
    "    temp = temp.copy()\n",
    "    levelOfAggregation = LEVEL_OF_AGGREGATION\n",
    "    temp['RoundedLongitude'] = temp['Longitude'].round(levelOfAggregation)\n",
    "    temp['RoundedLatitude'] = temp['Latitude'].round(levelOfAggregation)\n",
    "    \n",
    "    aggregateDf = temp.groupby(['RoundedLongitude', 'RoundedLatitude']).size().reset_index(name='Counts')\n",
    "    aggregateDf['Sizes'] = aggregateDf['Counts'].apply(math.log)\n",
    "    aggregateDf['Sizes'] *= 3\n",
    "    aggregateDf['Sizes'] += 8\n",
    "    aggregateDf['Counts'] = aggregateDf['Counts'].astype(str) + ' crimes'\n",
    "    return aggregateDf\n",
    "\n",
    "def filterEntireDS(yearsFromTo, areaNames, crimeCodes, weapons, victimAgeFromTo):\n",
    "    temp = crimes[(crimes['Date Occurred'].dt.year >= yearsFromTo[0]) & (crimes['Date Occurred'].dt.year <= yearsFromTo[1])]\n",
    "    temp = temp[temp['Area Name'].isin(areaNames)]\n",
    "    temp = temp[temp['Crime Code Description'].isin(crimeCodes)]\n",
    "    temp = temp[temp['Weapon Description'].isin(weapons)]\n",
    "    return temp[(temp['Victim Age'] >= victimAgeFromTo[0]) & (temp['Victim Age'] <= victimAgeFromTo[1])] "
   ]
  },
  {
   "cell_type": "code",
   "execution_count": 7,
   "metadata": {
    "collapsed": true
   },
   "outputs": [],
   "source": [
    "\n"
   ]
  },
  {
   "cell_type": "code",
   "execution_count": 8,
   "metadata": {
    "collapsed": true,
    "scrolled": false
   },
   "outputs": [],
   "source": [
    "# Widgets\n",
    "yearWidget = widgets.IntRangeSlider(\n",
    "    value=[2010, 2017],\n",
    "    min=2010,\n",
    "    max=2017,\n",
    "    step=1,\n",
    "    description='Years:',\n",
    "    disabled=False,\n",
    "    orientation='horizontal',\n",
    "    readout=False,\n",
    "    readout_format='d',\n",
    ")\n",
    "\n",
    "# area name\n",
    "areaNames = sorted(crimes['Area Name'].unique().tolist())\n",
    "\n",
    "areaNameWidget = widgets.SelectMultiple(\n",
    "    options=areaNames,\n",
    "    rows=10,\n",
    "    description='Area Name:',\n",
    "    disabled=False,\n",
    "    readout=False\n",
    ")\n",
    "\n",
    "# victim ages\n",
    "victimAges = sorted(crimes['Victim Age'].unique().tolist())\n",
    "\n",
    "victimAgeWidget = widgets.IntRangeSlider(\n",
    "    value=[min(victimAges), max(victimAges)],\n",
    "    min=min(victimAges),\n",
    "    max=max(victimAges),\n",
    "    step=1,\n",
    "    description='Victim Age:',\n",
    "    disabled=False,\n",
    "    orientation='horizontal',\n",
    "    readout=True,\n",
    "    readout_format='d',\n",
    ")\n",
    "\n",
    "# crimes\n",
    "crimeCodes = sorted(crimes['Crime Code Description'].unique().tolist())\n",
    "\n",
    "crimeCodeWidget = widgets.SelectMultiple(\n",
    "    options=crimeCodes,\n",
    "    rows=10,\n",
    "    description='Crime Code:',\n",
    "    disabled=False\n",
    ")\n",
    "\n",
    "# weapons\n",
    "weapons = sorted(crimes['Weapon Description'].unique().tolist())\n",
    "\n",
    "weaponWidget = widgets.SelectMultiple(\n",
    "    options=weapons,\n",
    "    rows=10,\n",
    "    description='Weapon:',\n",
    "    disabled=False\n",
    ")\n",
    "\n",
    "# render button\n",
    "button = widgets.Button(description=\"Render\")\n",
    "\n",
    "def on_button_clicked():\n",
    "    global data\n",
    "    filteredCrimes = filterEntireDS(yearWidget.value, areaNameWidget.value, crimeCodeWidget.value, weaponWidget.value, victimAgeWidget.value)\n",
    "    aggAndFilteredCrimes = aggregateCrimes(filteredCrimes)\n",
    "    data = Data([\n",
    "        Scattermapbox(\n",
    "            lat=aggAndFilteredCrimes['RoundedLongitude'],\n",
    "            lon=aggAndFilteredCrimes['RoundedLatitude'],\n",
    "            text=aggAndFilteredCrimes['Counts'],\n",
    "            mode='markers',\n",
    "            marker=Marker(\n",
    "                size=aggAndFilteredCrimes['Sizes'],\n",
    "                color=aggAndFilteredCrimes['Sizes'],\n",
    "                colorscale='Jet',\n",
    "                opacity=0.5\n",
    "            )\n",
    "        )])\n",
    "    \n",
    "    # decide if we need to aggregate or not\n",
    "    # replot map\n",
    "\n",
    "button.on_click(on_button_clicked)"
   ]
  },
  {
   "cell_type": "code",
   "execution_count": 13,
   "metadata": {
    "collapsed": true,
    "scrolled": false
   },
   "outputs": [],
   "source": [
    "mapbox_access_token = 'pk.eyJ1IjoiYWxleHVzZXJmb3J2YSIsImEiOiJjamNkbzRicjkweHl2MndudHhjNnJ4aWN3In0.AaVHAeAvLxrOhveZHj3CvA'\n",
    "\n",
    "# initially aggregate all data\n",
    "aggregateDf = aggregateCrimes(crimes)\n",
    "\n",
    "data = Data([\n",
    "    Scattermapbox(\n",
    "        lat=aggregateDf['RoundedLongitude'],\n",
    "        lon=aggregateDf['RoundedLatitude'],\n",
    "        text=aggregateDf['Counts'],\n",
    "        mode='markers',\n",
    "        marker=Marker(\n",
    "            size=aggregateDf['Sizes'],\n",
    "            color=aggregateDf['Sizes'],\n",
    "            colorscale='Jet',\n",
    "            opacity=0.5\n",
    "        )\n",
    "    )]\n",
    ")\n",
    "        \n",
    "layout = Layout(\n",
    "    title='Crime Scenes in Los Angeles',\n",
    "    autosize=False,\n",
    "    width=1000,\n",
    "    height=1000,\n",
    "    hovermode='closest',\n",
    "    showlegend=False,\n",
    "    mapbox=dict(\n",
    "        accesstoken=mapbox_access_token,\n",
    "        bearing=0,\n",
    "        center=dict(\n",
    "            lat=34.0,\n",
    "            lon=-118.3\n",
    "        ),\n",
    "        pitch=0,\n",
    "        zoom=8,\n",
    "        style='streets'\n",
    "    ),\n",
    ")"
   ]
  },
  {
   "cell_type": "code",
   "execution_count": 14,
   "metadata": {
    "scrolled": false
   },
   "outputs": [
    {
     "data": {
      "application/vnd.jupyter.widget-view+json": {
       "model_id": "718a1faaffa34a6581d48648a48e5c72",
       "version_major": 2,
       "version_minor": 0
      },
      "text/html": [
       "<p>Failed to display Jupyter Widget of type <code>IntRangeSlider</code>.</p>\n",
       "<p>\n",
       "  If you're reading this message in the Jupyter Notebook or JupyterLab Notebook, it may mean\n",
       "  that the widgets JavaScript is still loading. If this message persists, it\n",
       "  likely means that the widgets JavaScript library is either not installed or\n",
       "  not enabled. See the <a href=\"https://ipywidgets.readthedocs.io/en/stable/user_install.html\">Jupyter\n",
       "  Widgets Documentation</a> for setup instructions.\n",
       "</p>\n",
       "<p>\n",
       "  If you're reading this message in another frontend (for example, a static\n",
       "  rendering on GitHub or <a href=\"https://nbviewer.jupyter.org/\">NBViewer</a>),\n",
       "  it may mean that your frontend doesn't currently support widgets.\n",
       "</p>\n"
      ],
      "text/plain": [
       "IntRangeSlider(value=(2010, 2017), description='Years:', max=2017, min=2010, readout=False)"
      ]
     },
     "metadata": {},
     "output_type": "display_data"
    },
    {
     "data": {
      "application/vnd.jupyter.widget-view+json": {
       "model_id": "2426568971b7436bafb99fd21a7d70b7",
       "version_major": 2,
       "version_minor": 0
      },
      "text/html": [
       "<p>Failed to display Jupyter Widget of type <code>SelectMultiple</code>.</p>\n",
       "<p>\n",
       "  If you're reading this message in the Jupyter Notebook or JupyterLab Notebook, it may mean\n",
       "  that the widgets JavaScript is still loading. If this message persists, it\n",
       "  likely means that the widgets JavaScript library is either not installed or\n",
       "  not enabled. See the <a href=\"https://ipywidgets.readthedocs.io/en/stable/user_install.html\">Jupyter\n",
       "  Widgets Documentation</a> for setup instructions.\n",
       "</p>\n",
       "<p>\n",
       "  If you're reading this message in another frontend (for example, a static\n",
       "  rendering on GitHub or <a href=\"https://nbviewer.jupyter.org/\">NBViewer</a>),\n",
       "  it may mean that your frontend doesn't currently support widgets.\n",
       "</p>\n"
      ],
      "text/plain": [
       "SelectMultiple(description='Area Name:', options=('77th Street', 'Central', 'Devonshire', 'Foothill', 'Harbor', 'Hollenbeck', 'Hollywood', 'Mission', 'N Hollywood', 'Newton', 'Northeast', 'Olympic', 'Pacific', 'Rampart', 'Southeast', 'Southwest', 'Topanga', 'Van Nuys', 'West LA', 'West Valley', 'Wilshire'), rows=10, value=())"
      ]
     },
     "metadata": {},
     "output_type": "display_data"
    },
    {
     "data": {
      "application/vnd.jupyter.widget-view+json": {
       "model_id": "a75b97d02d184638aa8405b3067b2396",
       "version_major": 2,
       "version_minor": 0
      },
      "text/html": [
       "<p>Failed to display Jupyter Widget of type <code>IntRangeSlider</code>.</p>\n",
       "<p>\n",
       "  If you're reading this message in the Jupyter Notebook or JupyterLab Notebook, it may mean\n",
       "  that the widgets JavaScript is still loading. If this message persists, it\n",
       "  likely means that the widgets JavaScript library is either not installed or\n",
       "  not enabled. See the <a href=\"https://ipywidgets.readthedocs.io/en/stable/user_install.html\">Jupyter\n",
       "  Widgets Documentation</a> for setup instructions.\n",
       "</p>\n",
       "<p>\n",
       "  If you're reading this message in another frontend (for example, a static\n",
       "  rendering on GitHub or <a href=\"https://nbviewer.jupyter.org/\">NBViewer</a>),\n",
       "  it may mean that your frontend doesn't currently support widgets.\n",
       "</p>\n"
      ],
      "text/plain": [
       "IntRangeSlider(value=(10, 99), description='Victim Age:', max=99, min=10)"
      ]
     },
     "metadata": {},
     "output_type": "display_data"
    },
    {
     "data": {
      "application/vnd.jupyter.widget-view+json": {
       "model_id": "ce4e8f9ec2994d7e913112d7102fe8b7",
       "version_major": 2,
       "version_minor": 0
      },
      "text/html": [
       "<p>Failed to display Jupyter Widget of type <code>SelectMultiple</code>.</p>\n",
       "<p>\n",
       "  If you're reading this message in the Jupyter Notebook or JupyterLab Notebook, it may mean\n",
       "  that the widgets JavaScript is still loading. If this message persists, it\n",
       "  likely means that the widgets JavaScript library is either not installed or\n",
       "  not enabled. See the <a href=\"https://ipywidgets.readthedocs.io/en/stable/user_install.html\">Jupyter\n",
       "  Widgets Documentation</a> for setup instructions.\n",
       "</p>\n",
       "<p>\n",
       "  If you're reading this message in another frontend (for example, a static\n",
       "  rendering on GitHub or <a href=\"https://nbviewer.jupyter.org/\">NBViewer</a>),\n",
       "  it may mean that your frontend doesn't currently support widgets.\n",
       "</p>\n"
      ],
      "text/plain": [
       "SelectMultiple(description='Weapon:', options=('AIR PISTOL/REVOLVER/RIFLE/BB GUN', 'ANTIQUE FIREARM', 'ASSAULT WEAPON/UZI/AK47/ETC', 'AUTOMATIC WEAPON/SUB-MACHINE GUN', 'AXE', 'BELT FLAILING INSTRUMENT/CHAIN', 'BLACKJACK', 'BLUNT INSTRUMENT', 'BOARD', 'BOMB THREAT', 'BOTTLE', 'BOW AND ARROW', 'BOWIE KNIFE', 'BRASS KNUCKLES', 'CAUSTIC CHEMICAL/POISON', 'CLEAVER', 'CLUB/BAT', 'CONCRETE BLOCK/BRICK', 'DEMAND NOTE', 'DIRK/DAGGER', 'DOG/ANIMAL (SIC ANIMAL ON)', 'EXPLOXIVE DEVICE', 'FIRE', 'FIXED OBJECT', 'FOLDING KNIFE', 'GLASS', 'HAMMER', 'HAND GUN', 'HECKLER & KOCH 91 SEMIAUTOMATIC ASSAULT RIFLE', 'HECKLER & KOCH 93 SEMIAUTOMATIC ASSAULT RIFLE', 'ICE PICK', 'KITCHEN KNIFE', 'KNIFE WITH BLADE 6INCHES OR LESS', 'KNIFE WITH BLADE OVER 6 INCHES IN LENGTH', 'LIQUOR/DRUGS', 'M-14 SEMIAUTOMATIC ASSAULT RIFLE', 'M1-1 SEMIAUTOMATIC ASSAULT RIFLE', 'MAC-10 SEMIAUTOMATIC ASSAULT WEAPON', 'MAC-11 SEMIAUTOMATIC ASSAULT WEAPON', 'MACE/PEPPER SPRAY', 'MACHETE', 'MARTIAL ARTS WEAPONS', 'OTHER CUTTING INSTRUMENT', 'OTHER FIREARM', 'OTHER KNIFE', 'PHYSICAL PRESENCE', 'PIPE/METAL PIPE', 'RAZOR', 'RAZOR BLADE', 'RELIC FIREARM', 'REVOLVER', 'RIFLE', 'ROCK/THROWN OBJECT', 'ROPE/LIGATURE', 'SAWED OFF RIFLE/SHOTGUN', 'SCALDING LIQUID', 'SCISSORS', 'SCREWDRIVER', 'SEMI-AUTOMATIC PISTOL', 'SEMI-AUTOMATIC RIFLE', 'SHOTGUN', 'SIMULATED GUN', 'STARTER PISTOL/REVOLVER', 'STICK', 'STRAIGHT RAZOR', 'STRONG-ARM (HANDS, FIST, FEET OR BODILY FORCE)', 'STUN GUN', 'SWITCH BLADE', 'SWORD', 'SYRINGE', 'TIRE IRON', 'TOY GUN', 'UNK TYPE SEMIAUTOMATIC ASSAULT RIFLE', 'UNKNOWN FIREARM', 'UNKNOWN TYPE CUTTING INSTRUMENT', 'UNKNOWN WEAPON/OTHER WEAPON', 'UZI SEMIAUTOMATIC ASSAULT RIFLE', 'Unknown/No Weapon', 'VEHICLE', 'VERBAL THREAT'), rows=10, value=())"
      ]
     },
     "metadata": {},
     "output_type": "display_data"
    },
    {
     "data": {
      "application/vnd.jupyter.widget-view+json": {
       "model_id": "81a35a6a2b26445687cb54997ae8f537",
       "version_major": 2,
       "version_minor": 0
      },
      "text/html": [
       "<p>Failed to display Jupyter Widget of type <code>SelectMultiple</code>.</p>\n",
       "<p>\n",
       "  If you're reading this message in the Jupyter Notebook or JupyterLab Notebook, it may mean\n",
       "  that the widgets JavaScript is still loading. If this message persists, it\n",
       "  likely means that the widgets JavaScript library is either not installed or\n",
       "  not enabled. See the <a href=\"https://ipywidgets.readthedocs.io/en/stable/user_install.html\">Jupyter\n",
       "  Widgets Documentation</a> for setup instructions.\n",
       "</p>\n",
       "<p>\n",
       "  If you're reading this message in another frontend (for example, a static\n",
       "  rendering on GitHub or <a href=\"https://nbviewer.jupyter.org/\">NBViewer</a>),\n",
       "  it may mean that your frontend doesn't currently support widgets.\n",
       "</p>\n"
      ],
      "text/plain": [
       "SelectMultiple(description='Crime Code:', options=('ABORTION/ILLEGAL', 'ARSON', 'ASSAULT WITH DEADLY WEAPON ON POLICE OFFICER', 'ASSAULT WITH DEADLY WEAPON, AGGRAVATED ASSAULT', 'ATTEMPTED ROBBERY', 'BATTERY - SIMPLE ASSAULT', 'BATTERY ON A FIREFIGHTER', 'BATTERY POLICE (SIMPLE)', 'BATTERY WITH SEXUAL CONTACT', 'BEASTIALITY, CRIME AGAINST NATURE SEXUAL ASSLT WITH ANIM0065', 'BIGAMY', 'BIKE - ATTEMPTED STOLEN', 'BIKE - STOLEN', 'BLOCKING DOOR INDUCTION CENTER', 'BOAT - STOLEN', 'BOMB SCARE', 'BRANDISH WEAPON', 'BRIBERY', 'BUNCO, ATTEMPT', 'BUNCO, GRAND THEFT', 'BUNCO, PETTY THEFT', 'BURGLARY', 'BURGLARY FROM VEHICLE', 'BURGLARY FROM VEHICLE, ATTEMPTED', 'BURGLARY, ATTEMPTED', 'CHILD ABANDONMENT', 'CHILD ABUSE (PHYSICAL) - AGGRAVATED ASSAULT', 'CHILD ABUSE (PHYSICAL) - SIMPLE ASSAULT', 'CHILD ANNOYING (17YRS & UNDER)', 'CHILD NEGLECT (SEE 300 W.I.C.)', 'CHILD PORNOGRAPHY', 'CHILD STEALING', 'CONSPIRACY', 'CONTEMPT OF COURT', 'CONTRIBUTING', 'COUNTERFEIT', 'CREDIT CARDS, FRAUD USE ($950 & UNDER', 'CREDIT CARDS, FRAUD USE ($950.01 & OVER)', 'CRIMINAL HOMICIDE', 'CRIMINAL THREATS - NO WEAPON DISPLAYED', 'CRM AGNST CHLD (13 OR UNDER) (14-15 & SUSP 10 YRS OLDER)0060', 'CRUELTY TO ANIMALS', 'DEFRAUDING INNKEEPER/THEFT OF SERVICES, $400 & UNDER', 'DEFRAUDING INNKEEPER/THEFT OF SERVICES, OVER $400', 'DISCHARGE FIREARMS/SHOTS FIRED', 'DISHONEST EMPLOYEE - GRAND THEFT', 'DISHONEST EMPLOYEE - PETTY THEFT', 'DISHONEST EMPLOYEE ATTEMPTED THEFT', 'DISRUPT SCHOOL', 'DISTURBING THE PEACE', 'DOCUMENT FORGERY / STOLEN FELONY', 'DOCUMENT WORTHLESS ($200 & UNDER)', 'DOCUMENT WORTHLESS ($200.01 & OVER)', 'DRIVING WITHOUT OWNER CONSENT (DWOC)', 'DRUGS, TO A MINOR', 'DRUNK ROLL', 'DRUNK ROLL - ATTEMPT', 'EMBEZZLEMENT, GRAND THEFT ($950.01 & OVER)', 'EMBEZZLEMENT, PETTY THEFT ($950 & UNDER)', 'EXTORTION', 'FAILURE TO DISPERSE', 'FAILURE TO YIELD', 'FALSE IMPRISONMENT', 'FALSE POLICE REPORT', 'FIREARMS RESTRAINING ORDER (FIREARMS RO)', 'GRAND THEFT / AUTO REPAIR', 'GRAND THEFT / INSURANCE FRAUD', 'HUMAN TRAFFICKING - COMMERCIAL SEX ACTS', 'HUMAN TRAFFICKING - INVOLUNTARY SERVITUDE', 'ILLEGAL DUMPING', 'INCEST (SEXUAL ACTS BETWEEN BLOOD RELATIVES)', 'INCITING A RIOT', 'INDECENT EXPOSURE', 'INTIMATE PARTNER - AGGRAVATED ASSAULT', 'INTIMATE PARTNER - SIMPLE ASSAULT', 'KIDNAPPING', 'KIDNAPPING - GRAND ATTEMPT', 'LETTERS, LEWD', 'LETTERS, LEWD  -  TELEPHONE CALLS, LEWD', 'LEWD CONDUCT', 'LEWD/LASCIVIOUS ACTS WITH CHILD', 'LYNCHING', 'LYNCHING - ATTEMPTED', 'MANSLAUGHTER, NEGLIGENT', 'ORAL COPULATION', 'OTHER ASSAULT', 'OTHER MISCELLANEOUS CRIME', 'PANDERING', 'PEEPING TOM', 'PETTY THEFT - AUTO REPAIR', 'PICKPOCKET', 'PICKPOCKET, ATTEMPT', 'PIMPING', 'PROWLER', 'PURSE SNATCHING', 'PURSE SNATCHING - ATTEMPT', 'RAPE, ATTEMPTED', 'RAPE, FORCIBLE', 'RECKLESS DRIVING', 'REPLICA FIREARMS(SALE,DISPLAY,MANUFACTURE OR DISTRIBUTE)0132', 'RESISTING ARREST', 'ROBBERY', 'SEX, UNLAWFUL', 'SEX,UNLAWFUL(INC MUTUAL CONSENT, PENETRATION W/ FRGN OBJ0059', 'SEXUAL PENETRATION W/FOREIGN OBJECT', 'SEXUAL PENTRATION WITH A FOREIGN OBJECT', 'SHOPLIFTING - ATTEMPT', 'SHOPLIFTING - PETTY THEFT ($950 & UNDER)', 'SHOPLIFTING-GRAND THEFT ($950.01 & OVER)', 'SHOTS FIRED AT INHABITED DWELLING', 'SHOTS FIRED AT MOVING VEHICLE, TRAIN OR AIRCRAFT', 'SODOMY/SEXUAL CONTACT B/W PENIS OF ONE PERS TO ANUS OTH 0007=02', 'STALKING', 'TELEPHONE PROPERTY - DAMAGE', 'THEFT FROM MOTOR VEHICLE - ATTEMPT', 'THEFT FROM MOTOR VEHICLE - GRAND ($400 AND OVER)', 'THEFT FROM MOTOR VEHICLE - PETTY ($950 & UNDER)', 'THEFT FROM PERSON - ATTEMPT', 'THEFT OF IDENTITY', 'THEFT PLAIN - ATTEMPT', 'THEFT PLAIN - PETTY ($950 & UNDER)', 'THEFT, COIN MACHINE - ATTEMPT', 'THEFT, COIN MACHINE - GRAND ($950.01 & OVER)', 'THEFT, COIN MACHINE - PETTY ($950 & UNDER)', 'THEFT, PERSON', 'THEFT-GRAND ($950.01 & OVER)EXCPT,GUNS,FOWL,LIVESTK,PROD0036', 'THREATENING PHONE CALLS/LETTERS', 'THROWING OBJECT AT MOVING VEHICLE', 'TILL TAP - ATTEMPT', 'TILL TAP - GRAND THEFT ($950.01 & OVER)', 'TILL TAP - PETTY ($950 & UNDER)', 'TRAIN WRECKING', 'TRESPASSING', 'UNAUTHORIZED COMPUTER ACCESS', 'VANDALISM - FELONY ($400 & OVER, ALL CHURCH VANDALISMS) 0114', 'VANDALISM - MISDEAMEANOR ($399 OR UNDER)', 'VEHICLE - ATTEMPT STOLEN', 'VEHICLE - STOLEN', 'VIOLATION OF COURT ORDER', 'VIOLATION OF RESTRAINING ORDER', 'VIOLATION OF TEMPORARY RESTRAINING ORDER', 'WEAPONS POSSESSION/BOMBING'), rows=10, value=())"
      ]
     },
     "metadata": {},
     "output_type": "display_data"
    }
   ],
   "source": [
    "display(yearWidget)\n",
    "display(areaNameWidget)\n",
    "display(victimAgeWidget)\n",
    "display(weaponWidget)\n",
    "display(crimeCodeWidget)"
   ]
  },
  {
   "cell_type": "code",
   "execution_count": 20,
   "metadata": {},
   "outputs": [
    {
     "data": {
      "application/vnd.jupyter.widget-view+json": {
       "model_id": "e98095c713a34eb98bbd161f74877e7c",
       "version_major": 2,
       "version_minor": 0
      },
      "text/html": [
       "<p>Failed to display Jupyter Widget of type <code>Button</code>.</p>\n",
       "<p>\n",
       "  If you're reading this message in the Jupyter Notebook or JupyterLab Notebook, it may mean\n",
       "  that the widgets JavaScript is still loading. If this message persists, it\n",
       "  likely means that the widgets JavaScript library is either not installed or\n",
       "  not enabled. See the <a href=\"https://ipywidgets.readthedocs.io/en/stable/user_install.html\">Jupyter\n",
       "  Widgets Documentation</a> for setup instructions.\n",
       "</p>\n",
       "<p>\n",
       "  If you're reading this message in another frontend (for example, a static\n",
       "  rendering on GitHub or <a href=\"https://nbviewer.jupyter.org/\">NBViewer</a>),\n",
       "  it may mean that your frontend doesn't currently support widgets.\n",
       "</p>\n"
      ],
      "text/plain": [
       "Button(description='Run all below', style=ButtonStyle())"
      ]
     },
     "metadata": {},
     "output_type": "display_data"
    },
    {
     "data": {
      "application/javascript": [
       "IPython.notebook.execute_cell_range(IPython.notebook.get_selected_index()+1, IPython.notebook.get_selected_index()+2)"
      ],
      "text/plain": [
       "<IPython.core.display.Javascript object>"
      ]
     },
     "metadata": {},
     "output_type": "display_data"
    },
    {
     "data": {
      "application/javascript": [
       "IPython.notebook.execute_cell_range(IPython.notebook.get_selected_index()+1, IPython.notebook.get_selected_index()+2)"
      ],
      "text/plain": [
       "<IPython.core.display.Javascript object>"
      ]
     },
     "metadata": {},
     "output_type": "display_data"
    }
   ],
   "source": [
    "from IPython.display import Javascript, display\n",
    "from ipywidgets import widgets\n",
    "\n",
    "def run_all(ev):\n",
    "    on_button_clicked()\n",
    "    display(Javascript('IPython.notebook.execute_cell_range(IPython.notebook.get_selected_index()+1, IPython.notebook.get_selected_index()+2)'))\n",
    "\n",
    "button = widgets.Button(description=\"Run all below\")\n",
    "button.on_click(run_all)\n",
    "display(button)"
   ]
  },
  {
   "cell_type": "code",
   "execution_count": 22,
   "metadata": {
    "scrolled": false
   },
   "outputs": [
    {
     "name": "stdout",
     "output_type": "stream",
     "text": [
      "High five! You successfully sent some data to your account on plotly. View your plot in your browser at https://plot.ly/~AlexForVA/0 or inside your plot.ly account where it is named 'Crime Scenes in Los Angeles'\n"
     ]
    },
    {
     "data": {
      "text/html": [
       "<iframe id=\"igraph\" scrolling=\"no\" style=\"border:none;\" seamless=\"seamless\" src=\"https://plot.ly/~AlexForVA/0.embed\" height=\"1000px\" width=\"1000px\"></iframe>"
      ],
      "text/plain": [
       "<plotly.tools.PlotlyDisplay object>"
      ]
     },
     "execution_count": 22,
     "metadata": {},
     "output_type": "execute_result"
    }
   ],
   "source": [
    "fig = dict(data=data, layout=layout)\n",
    "#pyo.offline.plot(fig, filename='Crime Scenes in Los Angeles.html')\n",
    "py.iplot(fig, filename='Crime Scenes in Los Angeles')"
   ]
  },
  {
   "cell_type": "code",
   "execution_count": null,
   "metadata": {
    "collapsed": true
   },
   "outputs": [],
   "source": [
    "print(\"Hello\")"
   ]
  },
  {
   "cell_type": "code",
   "execution_count": null,
   "metadata": {
    "collapsed": true
   },
   "outputs": [],
   "source": [
    "print(\"Hell02342\")"
   ]
  }
 ],
 "metadata": {
  "kernelspec": {
   "display_name": "Python 3",
   "language": "python",
   "name": "python3"
  },
  "language_info": {
   "codemirror_mode": {
    "name": "ipython",
    "version": 3
   },
   "file_extension": ".py",
   "mimetype": "text/x-python",
   "name": "python",
   "nbconvert_exporter": "python",
   "pygments_lexer": "ipython3",
   "version": "3.5.4"
  }
 },
 "nbformat": 4,
 "nbformat_minor": 2
}
