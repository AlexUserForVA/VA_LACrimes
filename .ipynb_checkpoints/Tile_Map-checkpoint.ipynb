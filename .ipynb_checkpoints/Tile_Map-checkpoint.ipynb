{
 "cells": [
  {
   "cell_type": "code",
   "execution_count": 1,
   "metadata": {
    "collapsed": true
   },
   "outputs": [],
   "source": [
    "import gmplot"
   ]
  },
  {
   "cell_type": "code",
   "execution_count": 2,
   "metadata": {
    "collapsed": true
   },
   "outputs": [],
   "source": [
    "import math\n",
    "import pandas as pd\n",
    "import numpy as np"
   ]
  },
  {
   "cell_type": "code",
   "execution_count": 3,
   "metadata": {
    "collapsed": true
   },
   "outputs": [],
   "source": [
    "# load the dataset\n",
    "crimes = pd.read_csv('crime_data.csv')"
   ]
  },
  {
   "cell_type": "code",
   "execution_count": 11,
   "metadata": {
    "collapsed": true
   },
   "outputs": [],
   "source": [
    "# Split 'Location' into Longitude and Latitude\n",
    "locations = crimes['Location '].str.replace('(', '')\n",
    "locations = locations.str.replace(')', '')\n",
    "locations = locations.str.split(',')\n",
    "longitude = []\n",
    "latitude = []\n",
    "for i, item in enumerate(locations[0:1000]):\n",
    "    longitude.append(float(item[0]))\n",
    "    latitude.append(float(item[1]))"
   ]
  },
  {
   "cell_type": "code",
   "execution_count": 10,
   "metadata": {
    "collapsed": true
   },
   "outputs": [],
   "source": [
    "gmap = gmplot.GoogleMapPlotter(33.428, -119.145, 12)\n",
    "colors = np.tile(['blue', 'red', 'green', 'yellow'], 250)\n",
    "#gmap.scatter(longitude, latitude, 'yellow', size=70, marker=False)\n",
    "#map.draw(\"mymap_scatter.html\")\n",
    "gmap.heatmap(longitude, latitude, threshold = 50, radius = 30)\n",
    "gmap.draw(\"mymap.html\")"
   ]
  },
  {
   "cell_type": "code",
   "execution_count": null,
   "metadata": {
    "collapsed": true
   },
   "outputs": [],
   "source": []
  }
 ],
 "metadata": {
  "kernelspec": {
   "display_name": "Python 3",
   "language": "python",
   "name": "python3"
  },
  "language_info": {
   "codemirror_mode": {
    "name": "ipython",
    "version": 3
   },
   "file_extension": ".py",
   "mimetype": "text/x-python",
   "name": "python",
   "nbconvert_exporter": "python",
   "pygments_lexer": "ipython3",
   "version": "3.5.4"
  }
 },
 "nbformat": 4,
 "nbformat_minor": 2
}
